{
  "nbformat": 4,
  "nbformat_minor": 0,
  "metadata": {
    "colab": {
      "name": "Doc similarity",
      "provenance": []
    },
    "kernelspec": {
      "name": "python3",
      "display_name": "Python 3"
    },
    "accelerator": "GPU"
  },
  "cells": [
    {
      "cell_type": "code",
      "metadata": {
        "id": "dZ6tUyb05Blo",
        "colab_type": "code",
        "colab": {}
      },
      "source": [
        "%matplotlib inline\n",
        "import os\n",
        "import numpy as np\n",
        "import pandas as pd\n",
        "pd.set_option('display.max_colwidth', -1)\n"
      ],
      "execution_count": 0,
      "outputs": []
    },
    {
      "cell_type": "code",
      "metadata": {
        "id": "ePloi8Qc5Rzm",
        "colab_type": "code",
        "colab": {
          "base_uri": "https://localhost:8080/",
          "height": 1000
        },
        "outputId": "dd3d8b51-0073-4299-ca41-bf54ab90cf60"
      },
      "source": [
        "!pip install ktrain"
      ],
      "execution_count": 2,
      "outputs": [
        {
          "output_type": "stream",
          "text": [
            "Collecting ktrain\n",
            "\u001b[?25l  Downloading https://files.pythonhosted.org/packages/17/40/bb9a34bfd0e8e6f6f763fb3f97b61734b1a868fce66ef7e8ab65a71120de/ktrain-0.7.2.tar.gz (88kB)\n",
            "\u001b[K     |████████████████████████████████| 92kB 2.8MB/s \n",
            "\u001b[?25hRequirement already satisfied: scikit-learn==0.21.3 in /usr/local/lib/python3.6/dist-packages (from ktrain) (0.21.3)\n",
            "Requirement already satisfied: matplotlib>=3.0.0 in /usr/local/lib/python3.6/dist-packages (from ktrain) (3.1.2)\n",
            "Requirement already satisfied: pandas>=0.24.2 in /usr/local/lib/python3.6/dist-packages (from ktrain) (0.25.3)\n",
            "Requirement already satisfied: fastprogress>=0.1.21 in /usr/local/lib/python3.6/dist-packages (from ktrain) (0.1.22)\n",
            "Collecting keras_bert\n",
            "  Downloading https://files.pythonhosted.org/packages/df/fe/bf46de1ef9d1395cd735d8df5402f5d837ef82cfd348a252ad8f32feeaef/keras-bert-0.80.0.tar.gz\n",
            "Requirement already satisfied: requests in /usr/local/lib/python3.6/dist-packages (from ktrain) (2.21.0)\n",
            "Requirement already satisfied: joblib in /usr/local/lib/python3.6/dist-packages (from ktrain) (0.14.0)\n",
            "Collecting langdetect\n",
            "\u001b[?25l  Downloading https://files.pythonhosted.org/packages/59/59/4bc44158a767a6d66de18c4136c8aa90491d56cc951c10b74dd1e13213c9/langdetect-1.0.7.zip (998kB)\n",
            "\u001b[K     |████████████████████████████████| 1.0MB 8.8MB/s \n",
            "\u001b[?25hRequirement already satisfied: jieba in /usr/local/lib/python3.6/dist-packages (from ktrain) (0.39)\n",
            "Collecting cchardet\n",
            "\u001b[?25l  Downloading https://files.pythonhosted.org/packages/fa/4e/847feebfc3e71c773b23ee06c74687b8c50a5a6d6aaff452a0a4f4eb9a32/cchardet-2.1.5-cp36-cp36m-manylinux1_x86_64.whl (241kB)\n",
            "\u001b[K     |████████████████████████████████| 245kB 26.5MB/s \n",
            "\u001b[?25hCollecting networkx==2.3\n",
            "\u001b[?25l  Downloading https://files.pythonhosted.org/packages/85/08/f20aef11d4c343b557e5de6b9548761811eb16e438cee3d32b1c66c8566b/networkx-2.3.zip (1.7MB)\n",
            "\u001b[K     |████████████████████████████████| 1.8MB 39.8MB/s \n",
            "\u001b[?25hRequirement already satisfied: bokeh in /usr/local/lib/python3.6/dist-packages (from ktrain) (1.0.4)\n",
            "Collecting seqeval\n",
            "  Downloading https://files.pythonhosted.org/packages/34/91/068aca8d60ce56dd9ba4506850e876aba5e66a6f2f29aa223224b50df0de/seqeval-0.0.12.tar.gz\n",
            "Requirement already satisfied: packaging in /usr/local/lib/python3.6/dist-packages (from ktrain) (19.2)\n",
            "Requirement already satisfied: numpy>=1.11.0 in /usr/local/lib/python3.6/dist-packages (from scikit-learn==0.21.3->ktrain) (1.17.4)\n",
            "Requirement already satisfied: scipy>=0.17.0 in /usr/local/lib/python3.6/dist-packages (from scikit-learn==0.21.3->ktrain) (1.3.3)\n",
            "Requirement already satisfied: pyparsing!=2.0.4,!=2.1.2,!=2.1.6,>=2.0.1 in /usr/local/lib/python3.6/dist-packages (from matplotlib>=3.0.0->ktrain) (2.4.5)\n",
            "Requirement already satisfied: python-dateutil>=2.1 in /usr/local/lib/python3.6/dist-packages (from matplotlib>=3.0.0->ktrain) (2.6.1)\n",
            "Requirement already satisfied: kiwisolver>=1.0.1 in /usr/local/lib/python3.6/dist-packages (from matplotlib>=3.0.0->ktrain) (1.1.0)\n",
            "Requirement already satisfied: cycler>=0.10 in /usr/local/lib/python3.6/dist-packages (from matplotlib>=3.0.0->ktrain) (0.10.0)\n",
            "Requirement already satisfied: pytz>=2017.2 in /usr/local/lib/python3.6/dist-packages (from pandas>=0.24.2->ktrain) (2018.9)\n",
            "Requirement already satisfied: Keras in /usr/local/lib/python3.6/dist-packages (from keras_bert->ktrain) (2.2.5)\n",
            "Collecting keras-transformer>=0.30.0\n",
            "  Downloading https://files.pythonhosted.org/packages/0a/57/496b1eab888171b0801a0a44d3245a7874b8d1cc04c1fbfdbb5e3327fc7a/keras-transformer-0.31.0.tar.gz\n",
            "Requirement already satisfied: idna<2.9,>=2.5 in /usr/local/lib/python3.6/dist-packages (from requests->ktrain) (2.8)\n",
            "Requirement already satisfied: chardet<3.1.0,>=3.0.2 in /usr/local/lib/python3.6/dist-packages (from requests->ktrain) (3.0.4)\n",
            "Requirement already satisfied: urllib3<1.25,>=1.21.1 in /usr/local/lib/python3.6/dist-packages (from requests->ktrain) (1.24.3)\n",
            "Requirement already satisfied: certifi>=2017.4.17 in /usr/local/lib/python3.6/dist-packages (from requests->ktrain) (2019.11.28)\n",
            "Requirement already satisfied: six in /usr/local/lib/python3.6/dist-packages (from langdetect->ktrain) (1.12.0)\n",
            "Requirement already satisfied: decorator>=4.3.0 in /usr/local/lib/python3.6/dist-packages (from networkx==2.3->ktrain) (4.4.1)\n",
            "Requirement already satisfied: Jinja2>=2.7 in /usr/local/lib/python3.6/dist-packages (from bokeh->ktrain) (2.10.3)\n",
            "Requirement already satisfied: pillow>=4.0 in /usr/local/lib/python3.6/dist-packages (from bokeh->ktrain) (4.3.0)\n",
            "Requirement already satisfied: PyYAML>=3.10 in /usr/local/lib/python3.6/dist-packages (from bokeh->ktrain) (3.13)\n",
            "Requirement already satisfied: tornado>=4.3 in /usr/local/lib/python3.6/dist-packages (from bokeh->ktrain) (4.5.3)\n",
            "Requirement already satisfied: setuptools in /usr/local/lib/python3.6/dist-packages (from kiwisolver>=1.0.1->matplotlib>=3.0.0->ktrain) (42.0.2)\n",
            "Requirement already satisfied: keras-applications>=1.0.8 in /usr/local/lib/python3.6/dist-packages (from Keras->keras_bert->ktrain) (1.0.8)\n",
            "Requirement already satisfied: keras-preprocessing>=1.1.0 in /usr/local/lib/python3.6/dist-packages (from Keras->keras_bert->ktrain) (1.1.0)\n",
            "Requirement already satisfied: h5py in /usr/local/lib/python3.6/dist-packages (from Keras->keras_bert->ktrain) (2.8.0)\n",
            "Collecting keras-pos-embd>=0.10.0\n",
            "  Downloading https://files.pythonhosted.org/packages/09/70/b63ed8fc660da2bb6ae29b9895401c628da5740c048c190b5d7107cadd02/keras-pos-embd-0.11.0.tar.gz\n",
            "Collecting keras-multi-head>=0.22.0\n",
            "  Downloading https://files.pythonhosted.org/packages/40/3e/d0a64bb2ac5217928effe4507c26bbd19b86145d16a1948bc2d4f4c6338a/keras-multi-head-0.22.0.tar.gz\n",
            "Collecting keras-layer-normalization>=0.12.0\n",
            "  Downloading https://files.pythonhosted.org/packages/a4/0e/d1078df0494bac9ce1a67954e5380b6e7569668f0f3b50a9531c62c1fc4a/keras-layer-normalization-0.14.0.tar.gz\n",
            "Collecting keras-position-wise-feed-forward>=0.5.0\n",
            "  Downloading https://files.pythonhosted.org/packages/e3/59/f0faa1037c033059e7e9e7758e6c23b4d1c0772cd48de14c4b6fd4033ad5/keras-position-wise-feed-forward-0.6.0.tar.gz\n",
            "Collecting keras-embed-sim>=0.7.0\n",
            "  Downloading https://files.pythonhosted.org/packages/bc/20/735fd53f6896e2af63af47e212601c1b8a7a80d00b6126c388c9d1233892/keras-embed-sim-0.7.0.tar.gz\n",
            "Requirement already satisfied: MarkupSafe>=0.23 in /usr/local/lib/python3.6/dist-packages (from Jinja2>=2.7->bokeh->ktrain) (1.1.1)\n",
            "Requirement already satisfied: olefile in /usr/local/lib/python3.6/dist-packages (from pillow>=4.0->bokeh->ktrain) (0.46)\n",
            "Collecting keras-self-attention==0.41.0\n",
            "  Downloading https://files.pythonhosted.org/packages/1b/1c/01599219bef7266fa43b3316e4f55bcb487734d3bafdc60ffd564f3cfe29/keras-self-attention-0.41.0.tar.gz\n",
            "Building wheels for collected packages: ktrain, keras-bert, langdetect, networkx, seqeval, keras-transformer, keras-pos-embd, keras-multi-head, keras-layer-normalization, keras-position-wise-feed-forward, keras-embed-sim, keras-self-attention\n",
            "  Building wheel for ktrain (setup.py) ... \u001b[?25l\u001b[?25hdone\n",
            "  Created wheel for ktrain: filename=ktrain-0.7.2-cp36-none-any.whl size=113492 sha256=8ab0c0b87c44d727d148b642c1fa14c84a462e1729ab42484a16d3c1530e3ceb\n",
            "  Stored in directory: /root/.cache/pip/wheels/ed/db/bd/fb2cb12563e8a7e5ef04f99cc9014bc0e509f1bb3834e6ee5d\n",
            "  Building wheel for keras-bert (setup.py) ... \u001b[?25l\u001b[?25hdone\n",
            "  Created wheel for keras-bert: filename=keras_bert-0.80.0-cp36-none-any.whl size=37923 sha256=c915dfcd0c62dd205305d1128e09bddbe6f6cd041cb8b34c3793252de5d9bce4\n",
            "  Stored in directory: /root/.cache/pip/wheels/63/dc/87/3260cb91f3aa32c0f85c5375429a30c8fd988bbb48f5ee21b0\n",
            "  Building wheel for langdetect (setup.py) ... \u001b[?25l\u001b[?25hdone\n",
            "  Created wheel for langdetect: filename=langdetect-1.0.7-cp36-none-any.whl size=993460 sha256=2f41a86deb87a143b60d4713e39985afa6c6f3fcd4fc05aa13f7d0322e8f3ba5\n",
            "  Stored in directory: /root/.cache/pip/wheels/ec/0c/a9/1647275e7ef5014e7b83ff30105180e332867d65e7617ddafe\n",
            "  Building wheel for networkx (setup.py) ... \u001b[?25l\u001b[?25hdone\n",
            "  Created wheel for networkx: filename=networkx-2.3-py2.py3-none-any.whl size=1556408 sha256=702eb58c833a8a234b32098e2b4113f2034ebaed821f731e5940e88664fe046a\n",
            "  Stored in directory: /root/.cache/pip/wheels/de/63/64/3699be2a9d0ccdb37c7f16329acf3863fd76eda58c39c737af\n",
            "  Building wheel for seqeval (setup.py) ... \u001b[?25l\u001b[?25hdone\n",
            "  Created wheel for seqeval: filename=seqeval-0.0.12-cp36-none-any.whl size=7424 sha256=dbee405b3f92306e67056cd91d28fc5ca5850d074b3e1a586d04e4d40dccfcf6\n",
            "  Stored in directory: /root/.cache/pip/wheels/4f/32/0a/df3b340a82583566975377d65e724895b3fad101a3fb729f68\n",
            "  Building wheel for keras-transformer (setup.py) ... \u001b[?25l\u001b[?25hdone\n",
            "  Created wheel for keras-transformer: filename=keras_transformer-0.31.0-cp36-none-any.whl size=13385 sha256=f40e9eec88d1664f5e14bc9542e5f95aa0df7b2f856de310738ec49de400cecb\n",
            "  Stored in directory: /root/.cache/pip/wheels/a3/c5/9a/5a5130240be614a7a6fa786765d7692ae97f82601e2161bb56\n",
            "  Building wheel for keras-pos-embd (setup.py) ... \u001b[?25l\u001b[?25hdone\n",
            "  Created wheel for keras-pos-embd: filename=keras_pos_embd-0.11.0-cp36-none-any.whl size=7553 sha256=b228bff4d32810439feb5a00cdc960778cbcfc46cd9e9ef670323281aa4ed491\n",
            "  Stored in directory: /root/.cache/pip/wheels/5b/a1/a0/ce6b1d49ba1a9a76f592e70cf297b05c96bc9f418146761032\n",
            "  Building wheel for keras-multi-head (setup.py) ... \u001b[?25l\u001b[?25hdone\n",
            "  Created wheel for keras-multi-head: filename=keras_multi_head-0.22.0-cp36-none-any.whl size=15371 sha256=5791aa0bc68767f45048170a652d9395c290584da15c2d0dbc51d33595f7c93c\n",
            "  Stored in directory: /root/.cache/pip/wheels/bb/df/3f/81b36f41b66e6a9cd69224c70a737de2bb6b2f7feb3272c25e\n",
            "  Building wheel for keras-layer-normalization (setup.py) ... \u001b[?25l\u001b[?25hdone\n",
            "  Created wheel for keras-layer-normalization: filename=keras_layer_normalization-0.14.0-cp36-none-any.whl size=5268 sha256=1851eb50a0e85fad291ee8e68d5cb09a02c3d10a3901cae38617c3bc4adc62f3\n",
            "  Stored in directory: /root/.cache/pip/wheels/54/80/22/a638a7d406fd155e507aa33d703e3fa2612b9eb7bb4f4fe667\n",
            "  Building wheel for keras-position-wise-feed-forward (setup.py) ... \u001b[?25l\u001b[?25hdone\n",
            "  Created wheel for keras-position-wise-feed-forward: filename=keras_position_wise_feed_forward-0.6.0-cp36-none-any.whl size=5624 sha256=5a184674d6cd2f0341da42251617ba2701622382ca2d670ed12d50d5adcbfa9a\n",
            "  Stored in directory: /root/.cache/pip/wheels/39/e2/e2/3514fef126a00574b13bc0b9e23891800158df3a3c19c96e3b\n",
            "  Building wheel for keras-embed-sim (setup.py) ... \u001b[?25l\u001b[?25hdone\n",
            "  Created wheel for keras-embed-sim: filename=keras_embed_sim-0.7.0-cp36-none-any.whl size=4676 sha256=518a778a3f44b496b125085c5b89391ad8b357203cba9de3296dfcc0282c1899\n",
            "  Stored in directory: /root/.cache/pip/wheels/d1/bc/b1/b0c45cee4ca2e6c86586b0218ffafe7f0703c6d07fdf049866\n",
            "  Building wheel for keras-self-attention (setup.py) ... \u001b[?25l\u001b[?25hdone\n",
            "  Created wheel for keras-self-attention: filename=keras_self_attention-0.41.0-cp36-none-any.whl size=17290 sha256=2fc0d6ed2b55e1712d556f4774d528f2c23b2255b1b954bc4c8af1311f4b5616\n",
            "  Stored in directory: /root/.cache/pip/wheels/cc/dc/17/84258b27a04cd38ac91998abe148203720ca696186635db694\n",
            "Successfully built ktrain keras-bert langdetect networkx seqeval keras-transformer keras-pos-embd keras-multi-head keras-layer-normalization keras-position-wise-feed-forward keras-embed-sim keras-self-attention\n",
            "\u001b[31mERROR: albumentations 0.1.12 has requirement imgaug<0.2.7,>=0.2.5, but you'll have imgaug 0.2.9 which is incompatible.\u001b[0m\n",
            "Installing collected packages: keras-pos-embd, keras-self-attention, keras-multi-head, keras-layer-normalization, keras-position-wise-feed-forward, keras-embed-sim, keras-transformer, keras-bert, langdetect, cchardet, networkx, seqeval, ktrain\n",
            "  Found existing installation: networkx 2.4\n",
            "    Uninstalling networkx-2.4:\n",
            "      Successfully uninstalled networkx-2.4\n",
            "Successfully installed cchardet-2.1.5 keras-bert-0.80.0 keras-embed-sim-0.7.0 keras-layer-normalization-0.14.0 keras-multi-head-0.22.0 keras-pos-embd-0.11.0 keras-position-wise-feed-forward-0.6.0 keras-self-attention-0.41.0 keras-transformer-0.31.0 ktrain-0.7.2 langdetect-1.0.7 networkx-2.3 seqeval-0.0.12\n"
          ],
          "name": "stdout"
        }
      ]
    },
    {
      "cell_type": "code",
      "metadata": {
        "id": "uSSBh-lf5XNQ",
        "colab_type": "code",
        "colab": {
          "base_uri": "https://localhost:8080/",
          "height": 114
        },
        "outputId": "d7bad56a-f4a2-434f-86e9-ff0c57f89d69"
      },
      "source": [
        "import ktrain\n",
        "ktrain.__version__"
      ],
      "execution_count": 3,
      "outputs": [
        {
          "output_type": "display_data",
          "data": {
            "text/html": [
              "<p style=\"color: red;\">\n",
              "The default version of TensorFlow in Colab will soon switch to TensorFlow 2.x.<br>\n",
              "We recommend you <a href=\"https://www.tensorflow.org/guide/migrate\" target=\"_blank\">upgrade</a> now \n",
              "or ensure your notebook will continue to use TensorFlow 1.x via the <code>%tensorflow_version 1.x</code> magic:\n",
              "<a href=\"https://colab.research.google.com/notebooks/tensorflow_version.ipynb\" target=\"_blank\">more info</a>.</p>\n"
            ],
            "text/plain": [
              "<IPython.core.display.HTML object>"
            ]
          },
          "metadata": {
            "tags": []
          }
        },
        {
          "output_type": "stream",
          "text": [
            "using Keras version: 2.2.4-tf\n"
          ],
          "name": "stdout"
        },
        {
          "output_type": "execute_result",
          "data": {
            "text/plain": [
              "'0.7.2'"
            ]
          },
          "metadata": {
            "tags": []
          },
          "execution_count": 3
        }
      ]
    },
    {
      "cell_type": "code",
      "metadata": {
        "id": "JzgsQqs05iDC",
        "colab_type": "code",
        "colab": {
          "base_uri": "https://localhost:8080/",
          "height": 51
        },
        "outputId": "8ac1084f-cc43-4cff-e811-6db917d51e91"
      },
      "source": [
        "from sklearn.datasets import fetch_20newsgroups\n",
        "remove = ('headers', 'footers', 'quotes')\n",
        "newsgroups_train = fetch_20newsgroups(subset='train', remove=remove)\n",
        "newsgroups_test = fetch_20newsgroups(subset='test', remove=remove)\n",
        "texts = newsgroups_train.data +  newsgroups_test.data"
      ],
      "execution_count": 5,
      "outputs": [
        {
          "output_type": "stream",
          "text": [
            "Downloading 20news dataset. This may take a few minutes.\n",
            "Downloading dataset from https://ndownloader.figshare.com/files/5975967 (14 MB)\n"
          ],
          "name": "stderr"
        }
      ]
    },
    {
      "cell_type": "code",
      "metadata": {
        "id": "7zlYqHox5pOp",
        "colab_type": "code",
        "colab": {
          "base_uri": "https://localhost:8080/",
          "height": 187
        },
        "outputId": "49f9ccf5-77d7-4835-fb6a-444c2336633c"
      },
      "source": [
        "tm = ktrain.text.get_topic_model(texts, n_features=10000)"
      ],
      "execution_count": 6,
      "outputs": [
        {
          "output_type": "stream",
          "text": [
            "n_topics automatically set to 97\n",
            "lang: en\n",
            "preprocessing texts...\n",
            "fitting model...\n",
            "iteration: 1 of max_iter: 5\n",
            "iteration: 2 of max_iter: 5\n",
            "iteration: 3 of max_iter: 5\n",
            "iteration: 4 of max_iter: 5\n",
            "iteration: 5 of max_iter: 5\n",
            "done.\n"
          ],
          "name": "stdout"
        }
      ]
    },
    {
      "cell_type": "code",
      "metadata": {
        "id": "AT99slHM56G-",
        "colab_type": "code",
        "colab": {
          "base_uri": "https://localhost:8080/",
          "height": 68
        },
        "outputId": "88b9e5af-b95e-4f3f-a8ec-3b9ebd8b0b7d"
      },
      "source": [
        "%%time\n",
        "tm.build(texts, threshold=0.25)"
      ],
      "execution_count": 9,
      "outputs": [
        {
          "output_type": "stream",
          "text": [
            "done.\n",
            "CPU times: user 14.3 s, sys: 7.71 s, total: 22 s\n",
            "Wall time: 12.7 s\n"
          ],
          "name": "stdout"
        }
      ]
    },
    {
      "cell_type": "code",
      "metadata": {
        "id": "7Z3DmDoJ7PHn",
        "colab_type": "code",
        "colab": {
          "base_uri": "https://localhost:8080/",
          "height": 1000
        },
        "outputId": "eeb92009-5124-44b7-8497-81d5aad5e3f2"
      },
      "source": [
        "tm.print_topics()"
      ],
      "execution_count": 10,
      "outputs": [
        {
          "output_type": "stream",
          "text": [
            "topic 0 | tape adam tim case moved bag quote mass marked zionism\n",
            "topic 1 | image jpeg images format programs tiff files jfif save lossless\n",
            "topic 2 | alternative movie film static cycles films philips dynamic hou phi\n",
            "topic 3 | hell humans poster frank reality kent gerard gant eternal bell\n",
            "topic 4 | air phd chz kit cbc ups w-s rus w47 mot\n",
            "topic 5 | dog math great figure poster couldn don trying rushdie fatwa\n",
            "topic 6 | collaboration nazi fact end expression germany philly world certified moore\n",
            "topic 7 | gif points scale postscript mirror plane rendering algorithm polygon rayshade\n",
            "topic 8 | fonts font shell converted iii characters slight composite breaks compress\n",
            "topic 9 | power station supply options option led light tank plastic wall\n",
            "topic 10 | transmission rider bmw driver automatic shift gear japanese stick highway\n",
            "topic 11 | tyre ezekiel ruler hernia appeared appointed supreme man land power\n",
            "topic 12 | space nasa earth data launch surface solar moon mission planet\n",
            "topic 13 | israel jews jewish israeli arab peace war arabs palestinian kuwait\n",
            "topic 14 | olvwm xremote animals kinds roughing toolkit close corp glenn imakefile\n",
            "topic 15 | medical health disease cancer patients drug treatment drugs aids study\n",
            "topic 16 | biden chip gear like information number automatic mode insurance know\n",
            "topic 17 | graphics zip amiga shareware formats ftp gif program sgi convert\n",
            "topic 18 | brilliant mail did god coming christianity people got ideas reading\n",
            "topic 19 | black red white blue green cross wires lines helmet mask\n",
            "topic 20 | car engine cars miles clutch new ford rear slip road\n",
            "topic 21 | list mailing service model small large lists radar available major\n",
            "topic 22 | key encryption chip keys clipper phone security use government privacy\n",
            "topic 23 | talking pit nyr stl phi edm mtl wsh hfd cgy\n",
            "topic 24 | signal input switch connected circuit audio noise output control voltage\n",
            "topic 25 | stuff deleted die posting beware fantastic motives authentic reluctant hope\n",
            "topic 26 | adams douglas dc-x garrett ingres tin sdio incremental mcdonnell guide\n",
            "topic 27 | men homosexual homosexuality women gay sexual homosexuals male kinsey pop\n",
            "topic 28 | usual leo rs-232 martian reading cooperative unmanned somalia decompress visited\n",
            "topic 29 | edu university information send new computer research mail internet address\n",
            "topic 30 | reserve naval marine ret commission one-way irgun prior closure facilities\n",
            "topic 31 | state intelligence militia units army zone georgia sam croats belongs\n",
            "topic 32 | says article pain known warning doctor stone bug kidney response\n",
            "topic 33 | faq rsa ripem lights yes patent nist management wax cipher\n",
            "topic 34 | wolverine comics hulk appearance special liefeld sabretooth incredible hobgoblin x-force\n",
            "topic 35 | software ram worth cycles controller available make dram dynamic situation\n",
            "topic 36 | religion people religious catalog bobby used driven involved long like\n",
            "topic 37 | intel sites experiment ftp does know family good like mrs\n",
            "topic 38 | armenian people army russian turkish genocide armenians ottoman turks jews\n",
            "topic 39 | theft geo available face couldn cover sony people number shop\n",
            "topic 40 | christianity did exists mail matter mind tool status god reading\n",
            "topic 41 | propane probe earth orbit orbiter titan cassini space atmosphere gravity\n",
            "topic 42 | people government right think rights law make public fbi don\n",
            "topic 43 | god people does say believe bible true think evidence religion\n",
            "topic 44 | mov phone south key war supply push left just registered\n",
            "topic 45 | period goal pts play chicago pittsburgh buffalo shots new blues\n",
            "topic 46 | game team games year hockey season players player baseball league\n",
            "topic 47 | speed dod student technician just hits right note giant light\n",
            "topic 48 | sex marriage relationship family married couple depression pregnancy childhood trademark\n",
            "topic 49 | protects rejecting com4 couple decides taking connect unc nearest richer\n",
            "topic 50 | president states united american national press april washington america white\n",
            "topic 51 | card memory windows board ram bus drivers driver cpu problem\n",
            "topic 52 | window application manager display button xterm path widget event resources\n",
            "topic 53 | cable win van det bos tor cal nyi chi buf\n",
            "topic 54 | americans baltimore rochester cape springfield moncton providence utica binghamton adirondack\n",
            "topic 55 | color monitor screen mouse video colors resolution vga colour monitors\n",
            "topic 56 | option power ssf flights capability module redesign missions station options\n",
            "topic 57 | body father son vitamin diet day cells cell form literature\n",
            "topic 58 | max g9v b8f a86 bhj giz bxn biz qax b4q\n",
            "topic 59 | bit fast chip ibm faster mode chips scsi-2 speeds quadra\n",
            "topic 60 | book books law adl islam islamic iran media bullock muslims\n",
            "topic 61 | armenian russian turkish ottoman people army armenians genocide war turks\n",
            "topic 62 | oscillator partition tune nun umumiye nezareti mecmuasi muharrerat-i evrak version\n",
            "topic 63 | tongues seat est didn raise copied lazy schemes adapter leap\n",
            "topic 64 | com object jim app function motorola heterosexual objects pointers encountered\n",
            "topic 65 | effective boy projects grow jason ain dump keyboards vastly grants\n",
            "topic 66 | armenian people russian armenians turks ottoman army turkish genocide muslim\n",
            "topic 67 | mac apple pin ground wire quicktime macs pins connector simms\n",
            "topic 68 | bastard turning likes hooks notions turks cited proud pointers chuck\n",
            "topic 69 | bought dealer cost channel replaced face sony stereo warranty tube\n",
            "topic 70 | myers food reaction msg writes loop eat dee effects taste\n",
            "topic 71 | lander contradiction reconcile apparent somebody supplement essential needs produce insulin\n",
            "topic 72 | re-boost systems virginia voice unix input ken easily summary developing\n",
            "topic 73 | block tests suck shadow dte screws macedonia sunlight fin message\n",
            "topic 74 | jesus church christ god lord holy spirit mary shall heaven\n",
            "topic 75 | gun number year guns rate insurance police years new firearms\n",
            "topic 76 | rule automatically characteristic wider thumb recommendation inline mr2 halfway width\n",
            "topic 77 | drive disk hard scsi drives controller floppy ide master transfer\n",
            "topic 78 | stephanopoulos water gas oil heat energy hot temperature cold nuclear\n",
            "topic 79 | like know does use don just good thanks need want\n",
            "topic 80 | starters mlb mov higher signing left accessible argument viola teams\n",
            "topic 81 | entry rules info define entries year int printf include contest\n",
            "topic 82 | price new sale offer sell condition shipping interested asking prices\n",
            "topic 83 | issue germany title magazine german cover race generation origin nazi\n",
            "topic 84 | armenian armenians people turkish war said killed children russian turkey\n",
            "topic 85 | dos windows software comp library os/2 version microsoft applications code\n",
            "topic 86 | probe space launch titan earth cassini orbiter orbit atmosphere mission\n",
            "topic 87 | housed throws fills daylight occurring activities adjacent presenting punish occuring\n",
            "topic 88 | statement folk raids thor disarmed anatolia polygon inria arrive smehlik\n",
            "topic 89 | sound steve pro convert ati ultra fahrenheit orchid hercules blaster\n",
            "topic 90 | joke tricky wearing golden trickle seen geneva csh course caesar\n",
            "topic 91 | moral objective values morality child defined bank definition wrong different\n",
            "topic 92 | files file edu ftp available version server data use sun\n",
            "topic 93 | catalog tons seal ordering kawasaki tools fax free ultraviolet packages\n",
            "topic 94 | file program error output use section line code command problem\n",
            "topic 95 | power ssf module capability option flights redesign missions human station\n",
            "topic 96 | just don think know like time did going didn people\n"
          ],
          "name": "stdout"
        }
      ]
    },
    {
      "cell_type": "code",
      "metadata": {
        "id": "yu1EiivZ7W9h",
        "colab_type": "code",
        "colab": {}
      },
      "source": [
        "religious_topics = [36,40,74,60]"
      ],
      "execution_count": 0,
      "outputs": []
    },
    {
      "cell_type": "code",
      "metadata": {
        "id": "zmPFdSmy8mj7",
        "colab_type": "code",
        "colab": {}
      },
      "source": [
        "tm.train_scorer(topic_ids=religious_topics)"
      ],
      "execution_count": 0,
      "outputs": []
    },
    {
      "cell_type": "code",
      "metadata": {
        "id": "ckK_0Vno8u9t",
        "colab_type": "code",
        "colab": {}
      },
      "source": [
        "other_topics = [i for i in range(tm.n_topics) if i not in religious_topics]"
      ],
      "execution_count": 0,
      "outputs": []
    },
    {
      "cell_type": "code",
      "metadata": {
        "id": "AhAJtMm585Lc",
        "colab_type": "code",
        "colab": {}
      },
      "source": [
        "other_texts = [d[0] for d in tm.get_docs(topic_ids=other_topics)]"
      ],
      "execution_count": 0,
      "outputs": []
    },
    {
      "cell_type": "code",
      "metadata": {
        "id": "Lwb-RfgG9APM",
        "colab_type": "code",
        "colab": {}
      },
      "source": [
        "other_scores = tm.score(other_texts)"
      ],
      "execution_count": 0,
      "outputs": []
    },
    {
      "cell_type": "code",
      "metadata": {
        "id": "M3rSPVqQ9HvQ",
        "colab_type": "code",
        "colab": {}
      },
      "source": [
        "other_preds = [int(score > 0) for score in other_scores]"
      ],
      "execution_count": 0,
      "outputs": []
    },
    {
      "cell_type": "code",
      "metadata": {
        "id": "ygCXahWJ9Qma",
        "colab_type": "code",
        "colab": {}
      },
      "source": [
        "data = sorted(list(zip(other_preds, other_scores, other_texts)), key=lambda item:item[1], reverse=True)"
      ],
      "execution_count": 0,
      "outputs": []
    },
    {
      "cell_type": "code",
      "metadata": {
        "id": "Pa5s-v-m9VRu",
        "colab_type": "code",
        "colab": {
          "base_uri": "https://localhost:8080/",
          "height": 799
        },
        "outputId": "cf724c2b-6d2a-4cd6-ce86-5b5224732526"
      },
      "source": [
        "df = pd.DataFrame(data, columns=['Prediction', 'Score', 'Text'])\n",
        "df.head()"
      ],
      "execution_count": 19,
      "outputs": [
        {
          "output_type": "execute_result",
          "data": {
            "text/html": [
              "<div>\n",
              "<style scoped>\n",
              "    .dataframe tbody tr th:only-of-type {\n",
              "        vertical-align: middle;\n",
              "    }\n",
              "\n",
              "    .dataframe tbody tr th {\n",
              "        vertical-align: top;\n",
              "    }\n",
              "\n",
              "    .dataframe thead th {\n",
              "        text-align: right;\n",
              "    }\n",
              "</style>\n",
              "<table border=\"1\" class=\"dataframe\">\n",
              "  <thead>\n",
              "    <tr style=\"text-align: right;\">\n",
              "      <th></th>\n",
              "      <th>Prediction</th>\n",
              "      <th>Score</th>\n",
              "      <th>Text</th>\n",
              "    </tr>\n",
              "  </thead>\n",
              "  <tbody>\n",
              "    <tr>\n",
              "      <th>0</th>\n",
              "      <td>1</td>\n",
              "      <td>0.257201</td>\n",
              "      <td>The tongue that brings healing is a\\n\\ttree of life,\\n\\tbut a deceitful tongue crushes the\\n\\tspirit.</td>\n",
              "    </tr>\n",
              "    <tr>\n",
              "      <th>1</th>\n",
              "      <td>1</td>\n",
              "      <td>0.256935</td>\n",
              "      <td>\\n[FAQ and Darius' response deleted]\\n\\n\\n\\nI am myself an SDA and I am in total agreement with what Darius has to say.  \\nI also worship on Saturday to honor the Lord.  Your mention of \"[esteeming] \\nall days alike\" IMO has to do with the fast days observed by the Jews.  But \\nno matter how you interpret that passage, I do accept your worship on Sunday \\nas being done in honor of the Lord, in contrast with what many of my fellow \\nSDA believers may believe.  To me, though, the bible overwhelmingly points \\nto Saturday as the day to be kept in honor of creation and of God's \\ndeliverance of the Israelites from Egyptian bondage.  To those who would \\nattempt to point out that my observance of Saturday is being legalistic, \\nthis is simply not the case.  Rather, keeping Saturday allows me a full day \\nto rest and contemplate God's goodness and grace.\\n\\n\\n\\nThe idea was introduced to me once that the reason Paul wanted the \\nCorinthians to lay aside money for the collection on the first day of the \\nweek was because that was when they received their weekly wages.  Paul \\nwanted them to lay aside money for the collection as first priority, before \\nspending their money on other things.  I do not have any proof in front of \\nme for this though, although it would explain why they would lay aside money \\nin their homes instead of a meeting.  \\n\\n\\nIt would seem to me that you assume that the christians in the NT regularly \\nworshipped on the first day.  I assume that the christians in the NT \\nregularly worshipped on the seventh day.  But I agree with you that we only \\nhave implications because the authors did assume the reader knew when worhip \\nwas.</td>\n",
              "    </tr>\n",
              "    <tr>\n",
              "      <th>2</th>\n",
              "      <td>1</td>\n",
              "      <td>0.256664</td>\n",
              "      <td>\\n   The dogma of the Assumption does not state whether or not Mary died a\\nphysical death before being taken into Heaven.  Catholics are free to\\nbelieve what they wish, whether it be that she was taken still alive, or\\nafter having died.  I lean somewhat toward the latter myself.</td>\n",
              "    </tr>\n",
              "    <tr>\n",
              "      <th>3</th>\n",
              "      <td>1</td>\n",
              "      <td>0.252121</td>\n",
              "      <td>\\n\\n\\n\\n\\n\\n\\tAgain I find myself wanting to respond to a posting and having neither\\nthe time nor the proper materials with me (you would think I would learn my\\nlesson by now--but I'm trying to finish writing my Thesis and don't have tons\\nof time.  Anyway...)\\n\\n\\tThe basis for our (the catholic church's) belief in the assumption of\\nMary, body and soul, into heaven is that, to put it simply, the apostles \\nand all the early generation Christians believed it.  In fact, throughout their\\nministry the apostles kept in close contact with Mary, and 11 of the 12 were\\npresent when she died.  Only Thomas was missing--when he arrived several days\\nlater, he asked to be shown her body, and moved with pity, Peter and several of\\nthe other apostles brought him to her tomb.  When they arrived the seal was\\nstill unbroken.  They broke the seal, entered, and the body was missing.  There\\nwas no sign that anyone had entered, forcibly or otherwise, and everything else\\nwas laid out exactly as it had been left.  The apostles present all believed\\nthat Mary was assumed into heaven--and the apostles TAUGHT this in their  \\npreaching (of course, this does not appear in any of the texts currently \\nconsidered part of the bible, but it does appear in other writings left behind\\nby several of them.)  Basicaly, as an apostolic church (ie. founded by the\\napostles), we believe that the teachings of the apostles, whether written down\\nin the bible or written down in other sources, is true, providing that the\\nauthenticity of those other sources can be confirmed.  At least in the case of\\nthe assumption of Mary, the authenticity is quite clear.</td>\n",
              "    </tr>\n",
              "    <tr>\n",
              "      <th>4</th>\n",
              "      <td>1</td>\n",
              "      <td>0.250008</td>\n",
              "      <td>The traditions of the church hold that all the \"apostles\" (meaning the 11\\nsurviving disciples, Matthias, Barnabas and Paul) were martyred, except for\\nJohn.  \"Tradition\" should be understood to read \"early church writings other\\nthan the bible and heteroorthodox scriptures\".</td>\n",
              "    </tr>\n",
              "  </tbody>\n",
              "</table>\n",
              "</div>"
            ],
            "text/plain": [
              "   Prediction  ...                                                                                                                                                                                                                                                                                                                                                                                                                                                                                                                                                                                                                                                                                                                                                                                                                                                                                                                                                                                                                                                                                                                                                                                                                                                                                                                                                                                                                                                                                                                                                                                                                                                                                                                                        Text\n",
              "0  1           ...  The tongue that brings healing is a\\n\\ttree of life,\\n\\tbut a deceitful tongue crushes the\\n\\tspirit.                                                                                                                                                                                                                                                                                                                                                                                                                                                                                                                                                                                                                                                                                                                                                                                                                                                                                                                                                                                                                                                                                                                                                                                                                                                                                                                                                                                                                                                                                                                                                                                                                                     \n",
              "1  1           ...  \\n[FAQ and Darius' response deleted]\\n\\n\\n\\nI am myself an SDA and I am in total agreement with what Darius has to say.  \\nI also worship on Saturday to honor the Lord.  Your mention of \"[esteeming] \\nall days alike\" IMO has to do with the fast days observed by the Jews.  But \\nno matter how you interpret that passage, I do accept your worship on Sunday \\nas being done in honor of the Lord, in contrast with what many of my fellow \\nSDA believers may believe.  To me, though, the bible overwhelmingly points \\nto Saturday as the day to be kept in honor of creation and of God's \\ndeliverance of the Israelites from Egyptian bondage.  To those who would \\nattempt to point out that my observance of Saturday is being legalistic, \\nthis is simply not the case.  Rather, keeping Saturday allows me a full day \\nto rest and contemplate God's goodness and grace.\\n\\n\\n\\nThe idea was introduced to me once that the reason Paul wanted the \\nCorinthians to lay aside money for the collection on the first day of the \\nweek was because that was when they received their weekly wages.  Paul \\nwanted them to lay aside money for the collection as first priority, before \\nspending their money on other things.  I do not have any proof in front of \\nme for this though, although it would explain why they would lay aside money \\nin their homes instead of a meeting.  \\n\\n\\nIt would seem to me that you assume that the christians in the NT regularly \\nworshipped on the first day.  I assume that the christians in the NT \\nregularly worshipped on the seventh day.  But I agree with you that we only \\nhave implications because the authors did assume the reader knew when worhip \\nwas.\n",
              "2  1           ...  \\n   The dogma of the Assumption does not state whether or not Mary died a\\nphysical death before being taken into Heaven.  Catholics are free to\\nbelieve what they wish, whether it be that she was taken still alive, or\\nafter having died.  I lean somewhat toward the latter myself.                                                                                                                                                                                                                                                                                                                                                                                                                                                                                                                                                                                                                                                                                                                                                                                                                                                                                                                                                                                                                                                                                                                                                                                                                                                                                                                                                                                                                                                \n",
              "3  1           ...  \\n\\n\\n\\n\\n\\n\\tAgain I find myself wanting to respond to a posting and having neither\\nthe time nor the proper materials with me (you would think I would learn my\\nlesson by now--but I'm trying to finish writing my Thesis and don't have tons\\nof time.  Anyway...)\\n\\n\\tThe basis for our (the catholic church's) belief in the assumption of\\nMary, body and soul, into heaven is that, to put it simply, the apostles \\nand all the early generation Christians believed it.  In fact, throughout their\\nministry the apostles kept in close contact with Mary, and 11 of the 12 were\\npresent when she died.  Only Thomas was missing--when he arrived several days\\nlater, he asked to be shown her body, and moved with pity, Peter and several of\\nthe other apostles brought him to her tomb.  When they arrived the seal was\\nstill unbroken.  They broke the seal, entered, and the body was missing.  There\\nwas no sign that anyone had entered, forcibly or otherwise, and everything else\\nwas laid out exactly as it had been left.  The apostles present all believed\\nthat Mary was assumed into heaven--and the apostles TAUGHT this in their  \\npreaching (of course, this does not appear in any of the texts currently \\nconsidered part of the bible, but it does appear in other writings left behind\\nby several of them.)  Basicaly, as an apostolic church (ie. founded by the\\napostles), we believe that the teachings of the apostles, whether written down\\nin the bible or written down in other sources, is true, providing that the\\nauthenticity of those other sources can be confirmed.  At least in the case of\\nthe assumption of Mary, the authenticity is quite clear.                         \n",
              "4  1           ...  The traditions of the church hold that all the \"apostles\" (meaning the 11\\nsurviving disciples, Matthias, Barnabas and Paul) were martyred, except for\\nJohn.  \"Tradition\" should be understood to read \"early church writings other\\nthan the bible and heteroorthodox scriptures\".                                                                                                                                                                                                                                                                                                                                                                                                                                                                                                                                                                                                                                                                                                                                                                                                                                                                                                                                                                                                                                                                                                                                                                                                                                                                                                                                                                                                                                                      \n",
              "\n",
              "[5 rows x 3 columns]"
            ]
          },
          "metadata": {
            "tags": []
          },
          "execution_count": 19
        }
      ]
    },
    {
      "cell_type": "code",
      "metadata": {
        "id": "2jJDScV-9kCE",
        "colab_type": "code",
        "colab": {
          "base_uri": "https://localhost:8080/",
          "height": 34
        },
        "outputId": "4939b6a2-ccb6-4a82-9a03-00fcbcb95250"
      },
      "source": [
        "print('\\t\\tNumber of Predicted Inliners: %s' % sum(other_preds))"
      ],
      "execution_count": 20,
      "outputs": [
        {
          "output_type": "stream",
          "text": [
            "\t\tNumber of Predicted Inliners: 124\n"
          ],
          "name": "stdout"
        }
      ]
    },
    {
      "cell_type": "code",
      "metadata": {
        "id": "cdfbiYEe-Jyc",
        "colab_type": "code",
        "colab": {
          "base_uri": "https://localhost:8080/",
          "height": 34
        },
        "outputId": "8f78c5a4-ba62-411a-b2f1-e835afd2939c"
      },
      "source": [
        "results = tm.search('war', case_sensitive=False)"
      ],
      "execution_count": 21,
      "outputs": [
        {
          "output_type": "display_data",
          "data": {
            "text/html": [
              "done."
            ],
            "text/plain": [
              "<IPython.core.display.HTML object>"
            ]
          },
          "metadata": {
            "tags": []
          }
        }
      ]
    },
    {
      "cell_type": "code",
      "metadata": {
        "id": "TmslT331-b1J",
        "colab_type": "code",
        "colab": {
          "base_uri": "https://localhost:8080/",
          "height": 187
        },
        "outputId": "470b6648-99b7-4e5e-c773-8e63f6b48659"
      },
      "source": [
        "print(results[0][0])"
      ],
      "execution_count": 22,
      "outputs": [
        {
          "output_type": "stream",
          "text": [
            "\n",
            "Don't be so sure.  Look what happened to Japanese citizens in the US during\n",
            "World War II.  If you're prepared to say \"Let's round these people up and\n",
            "stick them in a concentration camp without trial\", it's only a short step to\n",
            "gassing them without trial.  After all, it seems that the Nazis originally\n",
            "only intended to imprison the Jews; the Final Solution was dreamt up partly\n",
            "because they couldn't afford to run the camps because of the devastation\n",
            "caused by Goering's Total War.  Those who weren't gassed generally died of\n",
            "malnutrition or disease.\n",
            "\n"
          ],
          "name": "stdout"
        }
      ]
    },
    {
      "cell_type": "code",
      "metadata": {
        "id": "uvuMFEkC-gto",
        "colab_type": "code",
        "colab": {}
      },
      "source": [
        "doc_ids = [doc[1] for doc in results]\n",
        "tm.train_scorer(doc_ids=doc_ids)"
      ],
      "execution_count": 0,
      "outputs": []
    },
    {
      "cell_type": "code",
      "metadata": {
        "id": "9jIZc-hg-4dZ",
        "colab_type": "code",
        "colab": {}
      },
      "source": [
        "other_texts = [d[0] for d in tm.get_docs() if d[1] not in doc_ids]\n",
        "other_scores = tm.score(other_texts)"
      ],
      "execution_count": 0,
      "outputs": []
    },
    {
      "cell_type": "code",
      "metadata": {
        "id": "1TMt49Wg-_3L",
        "colab_type": "code",
        "colab": {}
      },
      "source": [
        "other_preds = [int(score > 0) for score in other_scores]\n",
        "data = sorted(list(zip(other_preds, other_scores, other_texts)), key=lambda item:item[1], reverse=True)"
      ],
      "execution_count": 0,
      "outputs": []
    },
    {
      "cell_type": "code",
      "metadata": {
        "id": "EAJu0D0B_KnH",
        "colab_type": "code",
        "colab": {
          "base_uri": "https://localhost:8080/",
          "height": 34
        },
        "outputId": "cf9d97ce-4340-4efd-c6f6-ad19cb3cd84a"
      },
      "source": [
        "print('\\t\\tNumber of Predicted Inliners: %s' % sum(other_preds))"
      ],
      "execution_count": 27,
      "outputs": [
        {
          "output_type": "stream",
          "text": [
            "\t\tNumber of Predicted Inliners: 10061\n"
          ],
          "name": "stdout"
        }
      ]
    },
    {
      "cell_type": "code",
      "metadata": {
        "id": "IBKgdIaa_OEG",
        "colab_type": "code",
        "colab": {
          "base_uri": "https://localhost:8080/",
          "height": 1000
        },
        "outputId": "57df7ccb-64a5-47eb-c5bd-c35ec512e29d"
      },
      "source": [
        "df = pd.DataFrame(data, columns=['Prediction', 'Score', 'Text'])\n",
        "df.head(3)"
      ],
      "execution_count": 28,
      "outputs": [
        {
          "output_type": "execute_result",
          "data": {
            "text/html": [
              "<div>\n",
              "<style scoped>\n",
              "    .dataframe tbody tr th:only-of-type {\n",
              "        vertical-align: middle;\n",
              "    }\n",
              "\n",
              "    .dataframe tbody tr th {\n",
              "        vertical-align: top;\n",
              "    }\n",
              "\n",
              "    .dataframe thead th {\n",
              "        text-align: right;\n",
              "    }\n",
              "</style>\n",
              "<table border=\"1\" class=\"dataframe\">\n",
              "  <thead>\n",
              "    <tr style=\"text-align: right;\">\n",
              "      <th></th>\n",
              "      <th>Prediction</th>\n",
              "      <th>Score</th>\n",
              "      <th>Text</th>\n",
              "    </tr>\n",
              "  </thead>\n",
              "  <tbody>\n",
              "    <tr>\n",
              "      <th>0</th>\n",
              "      <td>1</td>\n",
              "      <td>0.341649</td>\n",
              "      <td>\\n\\nEd of course has never demonstrated remarkable knowlege of socialism, \\nor any other political system come to that.\\n\\n\\nThat leaves Germany, Japan and the UK as examples of a country where the\\nright wing government is on the verge of collapse. Oh and of course the USA\\nwhich just elected a socialist government :-)\\n\\n\\nEtc, unfortunately you can't pin this on the left or the right, both are\\nto blame. Both sides are equally deep into the corruption scandal. The only \\nuntained party is the northern league which is a bunch of nationalist\\nseparatists and the communist party which has collapsed.\\n\\n\\n\\nEd should take a look at the budget deficit Regan and Bush created together\\nbefore he starts to make claims about europe collapsing based on the budget\\ndeficits here. None of them are serious on the USA scale.\\n\\nAnd here in Europe we have zero interest in Ed-Ipser type freed thank you.\\nWe do not want our countries to be run by a narrow elite of rich lawyers\\nfor the benefit of the super wealthy. We are quite happy with social \\ndemocracy and despite the fuss made in Time and Newsweek there is remarkably\\nlittle being done to reverse the social welfare reforms brought in by\\nsocialism.\\n\\nThe problem with socialism is that it started with the aims of free education\\nand health care and provision of the welfare state. This has been achieved\\nacross the whole of Europe, only the USA is struggling to catch up. The\\nproblem for socialism is what to do now it has succeeded.\\n\\n\\n\\nEd starts to discus LA, presumably he thinks that it is in Europe. On\\nthe other hand he most probably hasn't heard of a European city.\\n\\n\\nRather the opposite. What is happening in Italy is that the communist party\\nhas collapsed. This has meant that the grand coalition between right and\\nleft wing parties to keep out the communists has also collapsed. The \\nmagistrates have seized this opportunity to crack down hard on fraud and \\ncorruption and have arrested half the politicians. The fact that the socialists\\nare in charge this week is incidental, the right is into the corruption just\\nas baddly.\\n\\nWhat looks likely to happen is the fringe parties are going to do much\\nbetter in the next election. Most of the parliamentary deputies are going\\nto get replaced and the parties are going to be forced to look to people\\nwho are free of any hint of corruption. Look out for a parliament of\\nPavarotti's and porn stars.\\n</td>\n",
              "    </tr>\n",
              "    <tr>\n",
              "      <th>1</th>\n",
              "      <td>1</td>\n",
              "      <td>0.337863</td>\n",
              "      <td>Yarn of Cargo of Human Bones [1]\\n\\t\\n\\t\\tCopyright, 1924, by the New York Times Company\\n\\t\\t\\tSpecial Cable to The New York Times\\n\\n   PARIS, Dec 22, -- Marseilles is excited by a weird story of the arrival in\\nthat port of a ship flying the British flag and named Zan carrying a\\nmysterious cargo of 400 tons of human bones consigned to manufacturers there.\\nThe bones are said to have been loaded at Mudania on the Sea of Marmora and\\nto be the remains of the victims of massacres in Asia Minor. In view of the\\nrumors circulating it is expected that an inquiry will be instigated.\\n\\n\\t\\t\\t- - - Reference - - -\\n\\n[1] _New York Times_, December 23, 1924, page 3, column 2 (bottom)\\n\\n\\t\\t\\t- - - - - - - - - - - -\\n\\nOn the 78th Commemorative Anniversary of the Turkish genocide of the Armenians,\\nwe remember those whose only crime was to be Armenian in the shadow of an \\nemerging Turkish proto-fascist state. In their names we demand justice.\\n\\nIn April 1915, the Turkish government began a systematically executed \\nde-population of the eastern Anatolian homeland of the Armenians through a \\ngenocidal extermination. This genocide was to insure that Turks exclusively\\nruled over the geographic area today called the Republic of Turkey. The \\nresult: 1.5 million murdered, 30 billion dollars of Armenian property stolen\\nand plundered. This genocide ended nearly 3,000 years of Armenian civilization\\non those lands. Today, the Turkish government continues to scrape clean any\\nvestige of a prior Armenian existence on those lands. Today's Turkish\\ngovernmental policy is to re-write the history of the era, to manufacture\\ndistortion and generate excuses for their genocide of the Armenian people. In \\nthe face of refutation ad nauseam, the Turkish Historical Society and cronies \\nshamelessly continue to deny that any such genocide occurred. This policy \\nmerely demonstrates that in the modern era, genocide is an effective state \\npolicy when it remains un-redressed and un-punished. A crime unpunished is a \\ncrime encouraged. Adolf Hitler took this cue less than 25 years after the \\nsuccessful genocide of the Armenians.\\n\\nTurkey claims there was no systematic deportation of Armenians, yet...\\nArmenians were removed from every city, town, and village in the whole of \\nTurkey! Armenians who resisted deportation and massacre are referred to as \\n\"rebels\".\\n\\nTurkey claims there was no genocide of the Armenians, yet...Turkish population\\nfigures today show zero Armenians in eastern Turkey, the Armenian homeland.\\n\\nTurkey claims Armenians were always a small minority, yet...Turkey claims \\nArmenians were a \"threat\".\\n\\nIn a final insult to the victims, the Republic of Turkey sold the bones of \\napproximately 100,000 murdered Armenians for profit to Europe.\\n\\nToday, the Turkish government is enjoying the fruits of that genocide. The\\nsuccess of this genocide is hangs over the heads of Turkey's Kurdish\\npopulation.\\n\\nThe Armenians demand recognition, reparation, return of Armenian land and\\nproperty lost as a result of this genocide.\\n\\nARMENIANS DEMAND JUSTICE                              ERMENILER ADALET ISTIYOR\\n\\n</td>\n",
              "    </tr>\n",
              "    <tr>\n",
              "      <th>2</th>\n",
              "      <td>1</td>\n",
              "      <td>0.337029</td>\n",
              "      <td>\\n\\nYou can dream whatever you wish. We have demands from the Armenians.\\nWith the Government of x-Soviet Armenia, we would sit down, go over\\nall our outstanding issues, whether it's land or reparations or\\nrecognition, whatever it is. We'd like to sit down and ask for it.\\nBy all means, lands and properties were taken away from us and they\\nshould be returned to the rightful owners, the Turkish and Kurdish \\npeople, who were there 3,000 years, long before the Armenians ever\\nshowed up in that area. Entire population of the region was subjected \\nto genocide beyond belief; genocide which was planned to exterminate \\nthe whole Turkish people of the region to the last man, woman and child. \\nArmenians tortured and massacred millions of defenseless civilians. To \\nassemble innocent civilians in the mosques and burn them in the buildings \\nwas one of their methods. Even today the traveler in that region is seldom \\nfree from the evidence of these Armenian crimes.\\n\\nIf you have the stomach, I would strongly recommend the following\\nreferences on the Armenian genocide of the Muslims. Many more of them\\nare also available in the 'Erzurum and Van Turkish Genocide Museums.'\\n\\n1. Neside Kerem Demir, \"Bir Sehid Anasina Tarihin Soyledikleri: \\n   Turkiye'nin Ermeni Meselesi,\" Hulbe Basim ve Yayin T.A.S., \\n   Ankara, 1982. \\n\\n2. Veysel Eroglu, \"Ermeni Mezalimi,\" Sebil Yayinevi, Istanbul, 1978.\\n\\n3. A. Alper Gazigiray, \"Osmanlilardan Gunumuze Kadar Vesikalarla Ermeni\\n   Teroru'nun Kaynaklari,\" Gozen Kitabevi, Istanbul, 1982.\\n\\n4. Dr. Kirzioglu M. Fahrettin, \"Kars Ili ve Cevresinde Ermeni Mezalimi,\"\\n   Kardes Matbaasi, Ankara, 1970. \\n\\nBut more than that. \\n\\nA Final Goodbye in Azerbaijan:\\n\\n[Photo by Associated Press]: \"At a cemetery in Agdam, Azerbaijan, family \\nmembers and friends grieved during the burial of victims killed in the \\nfighting in Nagorno-Karabagh. Chingiz Iskandarov, right, hugged the \\ncoffin containing the remains of his brother, one of the victims. A copy \\nof Koran lay atop the coffin.\"\\nThe New York Times, 3/6/92\\n\\nFinal Embrace :\\n\\n[Photo by Associated Press]: \"Chingiz Iskenderov, right, weeps over \\ncoffin holding the remains of his brother as other relatives grieve \\nat an Azarbaijani cemetery yesterday amid burial of victims killed \\nin fighting in Nagorno-Karabagh.\"\\nThe Washington Post, 3/6/92\\n\\nNagorno-Karabagh Victims Buried in Azerbaijani Town :\\n\\n\"Refugees Claim Hundreds died in Armenian Attack...Of seven bodies seen \\n here today, two were children and three were women, one shot through \\n the chest at what appeared to be close range.  Another 120 refugees \\n being treated at Agdam's hospital include many with multiple stab \\n wounds.\"\\n Thomas Goltz\\n The Washington Post, 2/28/92\\n\\nSerdar Argic</td>\n",
              "    </tr>\n",
              "  </tbody>\n",
              "</table>\n",
              "</div>"
            ],
            "text/plain": [
              "   Prediction  ...                                                                                                                                                                                                                                                                                                                                                                                                                                                                                                                                                                                                                                                                                                                                                                                                                                                                                                                                                                                                                                                                                                                                                                                                                                                                                                                                                                                                                                                                                                                                                                                                                                                                                                                                                                                                                                                                                                                                                                                                                                                                                                                                                                                                                                                                                                                                                                                                                                                                                                                                                                                                                                                                                                                                                                                                                                                                                                                                                                                                                                                                                                                                                                                                                                                                                   Text\n",
              "0  1           ...  \\n\\nEd of course has never demonstrated remarkable knowlege of socialism, \\nor any other political system come to that.\\n\\n\\nThat leaves Germany, Japan and the UK as examples of a country where the\\nright wing government is on the verge of collapse. Oh and of course the USA\\nwhich just elected a socialist government :-)\\n\\n\\nEtc, unfortunately you can't pin this on the left or the right, both are\\nto blame. Both sides are equally deep into the corruption scandal. The only \\nuntained party is the northern league which is a bunch of nationalist\\nseparatists and the communist party which has collapsed.\\n\\n\\n\\nEd should take a look at the budget deficit Regan and Bush created together\\nbefore he starts to make claims about europe collapsing based on the budget\\ndeficits here. None of them are serious on the USA scale.\\n\\nAnd here in Europe we have zero interest in Ed-Ipser type freed thank you.\\nWe do not want our countries to be run by a narrow elite of rich lawyers\\nfor the benefit of the super wealthy. We are quite happy with social \\ndemocracy and despite the fuss made in Time and Newsweek there is remarkably\\nlittle being done to reverse the social welfare reforms brought in by\\nsocialism.\\n\\nThe problem with socialism is that it started with the aims of free education\\nand health care and provision of the welfare state. This has been achieved\\nacross the whole of Europe, only the USA is struggling to catch up. The\\nproblem for socialism is what to do now it has succeeded.\\n\\n\\n\\nEd starts to discus LA, presumably he thinks that it is in Europe. On\\nthe other hand he most probably hasn't heard of a European city.\\n\\n\\nRather the opposite. What is happening in Italy is that the communist party\\nhas collapsed. This has meant that the grand coalition between right and\\nleft wing parties to keep out the communists has also collapsed. The \\nmagistrates have seized this opportunity to crack down hard on fraud and \\ncorruption and have arrested half the politicians. The fact that the socialists\\nare in charge this week is incidental, the right is into the corruption just\\nas baddly.\\n\\nWhat looks likely to happen is the fringe parties are going to do much\\nbetter in the next election. Most of the parliamentary deputies are going\\nto get replaced and the parties are going to be forced to look to people\\nwho are free of any hint of corruption. Look out for a parliament of\\nPavarotti's and porn stars.\\n                                                                                                                                                                                                                                                                                                                                                                                                                                                                                                                                                                                                                                                                                                                                                \n",
              "1  1           ...  Yarn of Cargo of Human Bones [1]\\n\\t\\n\\t\\tCopyright, 1924, by the New York Times Company\\n\\t\\t\\tSpecial Cable to The New York Times\\n\\n   PARIS, Dec 22, -- Marseilles is excited by a weird story of the arrival in\\nthat port of a ship flying the British flag and named Zan carrying a\\nmysterious cargo of 400 tons of human bones consigned to manufacturers there.\\nThe bones are said to have been loaded at Mudania on the Sea of Marmora and\\nto be the remains of the victims of massacres in Asia Minor. In view of the\\nrumors circulating it is expected that an inquiry will be instigated.\\n\\n\\t\\t\\t- - - Reference - - -\\n\\n[1] _New York Times_, December 23, 1924, page 3, column 2 (bottom)\\n\\n\\t\\t\\t- - - - - - - - - - - -\\n\\nOn the 78th Commemorative Anniversary of the Turkish genocide of the Armenians,\\nwe remember those whose only crime was to be Armenian in the shadow of an \\nemerging Turkish proto-fascist state. In their names we demand justice.\\n\\nIn April 1915, the Turkish government began a systematically executed \\nde-population of the eastern Anatolian homeland of the Armenians through a \\ngenocidal extermination. This genocide was to insure that Turks exclusively\\nruled over the geographic area today called the Republic of Turkey. The \\nresult: 1.5 million murdered, 30 billion dollars of Armenian property stolen\\nand plundered. This genocide ended nearly 3,000 years of Armenian civilization\\non those lands. Today, the Turkish government continues to scrape clean any\\nvestige of a prior Armenian existence on those lands. Today's Turkish\\ngovernmental policy is to re-write the history of the era, to manufacture\\ndistortion and generate excuses for their genocide of the Armenian people. In \\nthe face of refutation ad nauseam, the Turkish Historical Society and cronies \\nshamelessly continue to deny that any such genocide occurred. This policy \\nmerely demonstrates that in the modern era, genocide is an effective state \\npolicy when it remains un-redressed and un-punished. A crime unpunished is a \\ncrime encouraged. Adolf Hitler took this cue less than 25 years after the \\nsuccessful genocide of the Armenians.\\n\\nTurkey claims there was no systematic deportation of Armenians, yet...\\nArmenians were removed from every city, town, and village in the whole of \\nTurkey! Armenians who resisted deportation and massacre are referred to as \\n\"rebels\".\\n\\nTurkey claims there was no genocide of the Armenians, yet...Turkish population\\nfigures today show zero Armenians in eastern Turkey, the Armenian homeland.\\n\\nTurkey claims Armenians were always a small minority, yet...Turkey claims \\nArmenians were a \"threat\".\\n\\nIn a final insult to the victims, the Republic of Turkey sold the bones of \\napproximately 100,000 murdered Armenians for profit to Europe.\\n\\nToday, the Turkish government is enjoying the fruits of that genocide. The\\nsuccess of this genocide is hangs over the heads of Turkey's Kurdish\\npopulation.\\n\\nThe Armenians demand recognition, reparation, return of Armenian land and\\nproperty lost as a result of this genocide.\\n\\nARMENIANS DEMAND JUSTICE                              ERMENILER ADALET ISTIYOR\\n\\n\n",
              "2  1           ...  \\n\\nYou can dream whatever you wish. We have demands from the Armenians.\\nWith the Government of x-Soviet Armenia, we would sit down, go over\\nall our outstanding issues, whether it's land or reparations or\\nrecognition, whatever it is. We'd like to sit down and ask for it.\\nBy all means, lands and properties were taken away from us and they\\nshould be returned to the rightful owners, the Turkish and Kurdish \\npeople, who were there 3,000 years, long before the Armenians ever\\nshowed up in that area. Entire population of the region was subjected \\nto genocide beyond belief; genocide which was planned to exterminate \\nthe whole Turkish people of the region to the last man, woman and child. \\nArmenians tortured and massacred millions of defenseless civilians. To \\nassemble innocent civilians in the mosques and burn them in the buildings \\nwas one of their methods. Even today the traveler in that region is seldom \\nfree from the evidence of these Armenian crimes.\\n\\nIf you have the stomach, I would strongly recommend the following\\nreferences on the Armenian genocide of the Muslims. Many more of them\\nare also available in the 'Erzurum and Van Turkish Genocide Museums.'\\n\\n1. Neside Kerem Demir, \"Bir Sehid Anasina Tarihin Soyledikleri: \\n   Turkiye'nin Ermeni Meselesi,\" Hulbe Basim ve Yayin T.A.S., \\n   Ankara, 1982. \\n\\n2. Veysel Eroglu, \"Ermeni Mezalimi,\" Sebil Yayinevi, Istanbul, 1978.\\n\\n3. A. Alper Gazigiray, \"Osmanlilardan Gunumuze Kadar Vesikalarla Ermeni\\n   Teroru'nun Kaynaklari,\" Gozen Kitabevi, Istanbul, 1982.\\n\\n4. Dr. Kirzioglu M. Fahrettin, \"Kars Ili ve Cevresinde Ermeni Mezalimi,\"\\n   Kardes Matbaasi, Ankara, 1970. \\n\\nBut more than that. \\n\\nA Final Goodbye in Azerbaijan:\\n\\n[Photo by Associated Press]: \"At a cemetery in Agdam, Azerbaijan, family \\nmembers and friends grieved during the burial of victims killed in the \\nfighting in Nagorno-Karabagh. Chingiz Iskandarov, right, hugged the \\ncoffin containing the remains of his brother, one of the victims. A copy \\nof Koran lay atop the coffin.\"\\nThe New York Times, 3/6/92\\n\\nFinal Embrace :\\n\\n[Photo by Associated Press]: \"Chingiz Iskenderov, right, weeps over \\ncoffin holding the remains of his brother as other relatives grieve \\nat an Azarbaijani cemetery yesterday amid burial of victims killed \\nin fighting in Nagorno-Karabagh.\"\\nThe Washington Post, 3/6/92\\n\\nNagorno-Karabagh Victims Buried in Azerbaijani Town :\\n\\n\"Refugees Claim Hundreds died in Armenian Attack...Of seven bodies seen \\n here today, two were children and three were women, one shot through \\n the chest at what appeared to be close range.  Another 120 refugees \\n being treated at Agdam's hospital include many with multiple stab \\n wounds.\"\\n Thomas Goltz\\n The Washington Post, 2/28/92\\n\\nSerdar Argic                                                                                                                                                                                                                                                                                                                                                                                         \n",
              "\n",
              "[3 rows x 3 columns]"
            ]
          },
          "metadata": {
            "tags": []
          },
          "execution_count": 28
        }
      ]
    },
    {
      "cell_type": "code",
      "metadata": {
        "id": "6n8OQljx_QXE",
        "colab_type": "code",
        "colab": {}
      },
      "source": [
        ""
      ],
      "execution_count": 0,
      "outputs": []
    }
  ]
}